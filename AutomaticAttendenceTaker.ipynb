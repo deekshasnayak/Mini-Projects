{
 "cells": [
  {
   "cell_type": "code",
   "execution_count": 6,
   "id": "68c33529-53f6-4b34-9f87-53d118f1e855",
   "metadata": {},
   "outputs": [
    {
     "name": "stdin",
     "output_type": "stream",
     "text": [
      "Enter your USN:  20BTRCD004\n"
     ]
    },
    {
     "name": "stderr",
     "output_type": "stream",
     "text": [
      "C:\\Users\\Radha Krishna\\AppData\\Local\\Temp\\ipykernel_13140\\67597424.py:16: FutureWarning: The frame.append method is deprecated and will be removed from pandas in a future version. Use pandas.concat instead.\n",
      "  df = df.append({'USN': USN, '02-03-23': 'Present'}, ignore_index=True)\n"
     ]
    }
   ],
   "source": [
    "import pandas as pd\n",
    "import os\n",
    "\n",
    "file_path = 'V_SEM_DS_ATTENDANCE'\n",
    "\n",
    "if not os.path.exists(file_path) or 'USN' not in pd.read_excel(file_path).columns:\n",
    "    df = pd.DataFrame(columns=['USN', '02-03-23'])\n",
    "else:\n",
    "    df = pd.read_excel(file_path)\n",
    "\n",
    "USN = input(\"Enter your USN: \")\n",
    "\n",
    "if USN in df['USN'].values:\n",
    "    df.loc[df['USN'] == USN, '02-03-23'] = 'Present'\n",
    "else:\n",
    "    df = df.append({'USN': USN, '02-03-23': 'Present'}, ignore_index=True)\n",
    "\n",
    "#df.to_excel(file_path, index=False)\n",
    "df.to_excel(file_path, index=False, engine='openpyxl')\n"
   ]
  },
  {
   "cell_type": "code",
   "execution_count": null,
   "id": "0527eaaf-5955-4f77-9b64-e469a7eadc22",
   "metadata": {},
   "outputs": [],
   "source": []
  },
  {
   "cell_type": "code",
   "execution_count": 5,
   "id": "8e02d4e0-140d-4095-9bbb-a5a197eedf28",
   "metadata": {},
   "outputs": [
    {
     "name": "stdout",
     "output_type": "stream",
     "text": [
      "Requirement already satisfied: openpyxl in c:\\users\\radha krishna\\anaconda3\\lib\\site-packages (3.0.9)Note: you may need to restart the kernel to use updated packages.\n",
      "\n",
      "Requirement already satisfied: et-xmlfile in c:\\users\\radha krishna\\anaconda3\\lib\\site-packages (from openpyxl) (1.1.0)\n"
     ]
    }
   ],
   "source": [
    "pip install openpyxl"
   ]
  },
  {
   "cell_type": "code",
   "execution_count": null,
   "id": "1617ee8d-0b70-4d04-88ee-7e0219fb6ce4",
   "metadata": {},
   "outputs": [],
   "source": [
    "import openpyxl\n",
    "\n",
    "# Load the Excel workbook\n",
    "wb = openpyxl.load_workbook('V_SEM_DS_ATTENDANCE')\n",
    "\n",
    "# Select the active sheet\n",
    "sheet = wb.active\n",
    "\n",
    "# Define a function to update the attendance\n",
    "def update_attendance(usn, new_attendance):\n",
    "    for row in sheet.iter_rows(values_only=True):\n",
    "        if row[0] == usn:\n",
    "            sheet.cell(row=row[0].row, column=2, value=new_attendance)\n",
    "            print(\"Attendance updated successfully\")\n",
    "            break\n",
    "    else:\n",
    "        print(\"Error: USN not found\")\n",
    "\n",
    "# Take USN and attendance as input from user\n",
    "usn = input(\"Enter the USN: \")\n",
    "new_attendance = int(input(\"Enter the new attendance: \"))\n",
    "\n",
    "# Call the function to update the attendance\n",
    "update_attendance(usn, new_attendance)\n",
    "\n",
    "# Save the changes to the Excel workbook\n",
    "wb.save('attendance.xlsx')\n"
   ]
  },
  {
   "cell_type": "code",
   "execution_count": 19,
   "id": "65e766b8-03ac-4a5f-91bf-77e85ccfb665",
   "metadata": {},
   "outputs": [
    {
     "name": "stdin",
     "output_type": "stream",
     "text": [
      "Enter the USN:  20BTRCD004\n",
      "Enter the date (YYYY-MM-DD):  23-02-02\n",
      "Enter the new attendance:  1\n"
     ]
    },
    {
     "ename": "AttributeError",
     "evalue": "'str' object has no attribute 'row'",
     "output_type": "error",
     "traceback": [
      "\u001b[1;31m---------------------------------------------------------------------------\u001b[0m",
      "\u001b[1;31mAttributeError\u001b[0m                            Traceback (most recent call last)",
      "Input \u001b[1;32mIn [19]\u001b[0m, in \u001b[0;36m<cell line: 37>\u001b[1;34m()\u001b[0m\n\u001b[0;32m     34\u001b[0m new_attendance \u001b[38;5;241m=\u001b[39m \u001b[38;5;28mint\u001b[39m(\u001b[38;5;28minput\u001b[39m(\u001b[38;5;124m\"\u001b[39m\u001b[38;5;124mEnter the new attendance: \u001b[39m\u001b[38;5;124m\"\u001b[39m))\n\u001b[0;32m     36\u001b[0m \u001b[38;5;66;03m# Call the function to update the attendance\u001b[39;00m\n\u001b[1;32m---> 37\u001b[0m \u001b[43mupdate_attendance\u001b[49m\u001b[43m(\u001b[49m\u001b[43musn\u001b[49m\u001b[43m,\u001b[49m\u001b[43m \u001b[49m\u001b[43mdate\u001b[49m\u001b[43m,\u001b[49m\u001b[43m \u001b[49m\u001b[43mnew_attendance\u001b[49m\u001b[43m)\u001b[49m\n\u001b[0;32m     39\u001b[0m \u001b[38;5;66;03m# Save the changes to the Excel workbook\u001b[39;00m\n\u001b[0;32m     40\u001b[0m wb\u001b[38;5;241m.\u001b[39msave(\u001b[38;5;124m'\u001b[39m\u001b[38;5;124mV_SEM_DS_ATTENDANCE.xlsx\u001b[39m\u001b[38;5;124m'\u001b[39m)\n",
      "Input \u001b[1;32mIn [19]\u001b[0m, in \u001b[0;36mupdate_attendance\u001b[1;34m(usn, date, new_attendance)\u001b[0m\n\u001b[0;32m     23\u001b[0m     sheet\u001b[38;5;241m.\u001b[39mcell(row\u001b[38;5;241m=\u001b[39m\u001b[38;5;241m1\u001b[39m, column\u001b[38;5;241m=\u001b[39mdate_column, value\u001b[38;5;241m=\u001b[39mdate)\n\u001b[0;32m     24\u001b[0m \u001b[38;5;66;03m# Update the attendance for the given date\u001b[39;00m\n\u001b[1;32m---> 25\u001b[0m sheet\u001b[38;5;241m.\u001b[39mcell(row\u001b[38;5;241m=\u001b[39m\u001b[43mrow\u001b[49m\u001b[43m[\u001b[49m\u001b[38;5;241;43m0\u001b[39;49m\u001b[43m]\u001b[49m\u001b[38;5;241;43m.\u001b[39;49m\u001b[43mrow\u001b[49m, column\u001b[38;5;241m=\u001b[39mdate_column, value\u001b[38;5;241m=\u001b[39mnew_attendance)\n\u001b[0;32m     26\u001b[0m \u001b[38;5;28mprint\u001b[39m(\u001b[38;5;124m\"\u001b[39m\u001b[38;5;124mAttendance updated successfully\u001b[39m\u001b[38;5;124m\"\u001b[39m)\n\u001b[0;32m     27\u001b[0m \u001b[38;5;28;01mbreak\u001b[39;00m\n",
      "\u001b[1;31mAttributeError\u001b[0m: 'str' object has no attribute 'row'"
     ]
    }
   ],
   "source": [
    "\n",
    "\n",
    "\n",
    "import openpyxl\n",
    "from datetime import datetime\n",
    "\n",
    "# Load the Excel workbook\n",
    "wb = openpyxl.load_workbook('V_SEM_DS_ATTENDANCE.xlsx')\n",
    "\n",
    "# Select the active sheet\n",
    "sheet = wb.active\n",
    "\n",
    "# Define a function to update the attendance\n",
    "def update_attendance(usn, date, new_attendance):\n",
    "    for row in sheet.iter_rows(values_only=True):\n",
    "        if row[0] == usn:\n",
    "            # Check if the date column exists\n",
    "            date_column = None\n",
    "            for col in range(1, sheet.max_column + 1):\n",
    "                if sheet.cell(row=1, column=col).value == date:\n",
    "                    date_column = col\n",
    "                    break\n",
    "            if date_column is None:\n",
    "                # Add a new column for the date\n",
    "                date_column = sheet.max_column + 1\n",
    "                sheet.cell(row=1, column=date_column, value=date)\n",
    "            # Update the attendance for the given date\n",
    "            sheet.cell(row=row[0].r\n",
    "                       \n",
    "                       ....................w, column=date_column, value=new_attendance)\n",
    "            print(\"Attendance updated successfully\")\n",
    "            break\n",
    "    else:\n",
    "        print(\"Error: USN not found\")\n",
    "\n",
    "# Take USN, date, and attendance as input from user\n",
    "usn = input(\"Enter the USN: \")\n",
    "date = datetime.strptime(input(\"Enter the date (YYYY-MM-DD): \"), \"%y-%m-%d\").date()\n",
    "new_attendance = int(input(\"Enter the new attendance: \"))\n",
    "\n",
    "# Call the function to update the attendance\n",
    "update_attendance(usn, date, new_attendance)\n",
    "\n",
    "# Save the changes to the Excel workbook\n",
    "wb.save('V_SEM_DS_ATTENDANCE.xlsx')\n"
   ]
  },
  {
   "cell_type": "code",
   "execution_count": 14,
   "id": "5ab0f724-e478-4ee9-ba2e-5d1a253f841a",
   "metadata": {},
   "outputs": [
    {
     "data": {
      "text/plain": [
       "'C:\\\\Users\\\\Radha Krishna\\\\Desktop\\\\attendance'"
      ]
     },
     "execution_count": 14,
     "metadata": {},
     "output_type": "execute_result"
    }
   ],
   "source": [
    "import os\n",
    "os.getcwd()"
   ]
  },
  {
   "cell_type": "code",
   "execution_count": 24,
   "id": "629321e0-3f3f-4836-ada1-0c67c6ec8d17",
   "metadata": {},
   "outputs": [
    {
     "name": "stdin",
     "output_type": "stream",
     "text": [
      "Enter the USN:  20BTRCD004\n",
      "Enter the date (YYYY-MM-DD):  2023-01-16\n"
     ]
    },
    {
     "ename": "KeyboardInterrupt",
     "evalue": "Interrupted by user",
     "output_type": "error",
     "traceback": [
      "\u001b[1;31m---------------------------------------------------------------------------\u001b[0m",
      "\u001b[1;31mKeyboardInterrupt\u001b[0m                         Traceback (most recent call last)",
      "Input \u001b[1;32mIn [24]\u001b[0m, in \u001b[0;36m<cell line: 34>\u001b[1;34m()\u001b[0m\n\u001b[0;32m     32\u001b[0m usn \u001b[38;5;241m=\u001b[39m \u001b[38;5;28minput\u001b[39m(\u001b[38;5;124m\"\u001b[39m\u001b[38;5;124mEnter the USN: \u001b[39m\u001b[38;5;124m\"\u001b[39m)\n\u001b[0;32m     33\u001b[0m date \u001b[38;5;241m=\u001b[39m datetime\u001b[38;5;241m.\u001b[39mstrptime(\u001b[38;5;28minput\u001b[39m(\u001b[38;5;124m\"\u001b[39m\u001b[38;5;124mEnter the date (YYYY-MM-DD): \u001b[39m\u001b[38;5;124m\"\u001b[39m), \u001b[38;5;124m\"\u001b[39m\u001b[38;5;124m%\u001b[39m\u001b[38;5;124mY-\u001b[39m\u001b[38;5;124m%\u001b[39m\u001b[38;5;124mm-\u001b[39m\u001b[38;5;132;01m%d\u001b[39;00m\u001b[38;5;124m\"\u001b[39m)\u001b[38;5;241m.\u001b[39mdate()\n\u001b[1;32m---> 34\u001b[0m new_attendance \u001b[38;5;241m=\u001b[39m \u001b[38;5;28mint\u001b[39m(\u001b[38;5;28;43minput\u001b[39;49m\u001b[43m(\u001b[49m\u001b[38;5;124;43m\"\u001b[39;49m\u001b[38;5;124;43mEnter the new attendance: \u001b[39;49m\u001b[38;5;124;43m\"\u001b[39;49m\u001b[43m)\u001b[49m)\n\u001b[0;32m     36\u001b[0m \u001b[38;5;66;03m# Call the function to update the attendance\u001b[39;00m\n\u001b[0;32m     37\u001b[0m update_attendance(usn, date, new_attendance)\n",
      "File \u001b[1;32m~\\anaconda3\\lib\\site-packages\\ipykernel\\kernelbase.py:1075\u001b[0m, in \u001b[0;36mKernel.raw_input\u001b[1;34m(self, prompt)\u001b[0m\n\u001b[0;32m   1071\u001b[0m \u001b[38;5;28;01mif\u001b[39;00m \u001b[38;5;129;01mnot\u001b[39;00m \u001b[38;5;28mself\u001b[39m\u001b[38;5;241m.\u001b[39m_allow_stdin:\n\u001b[0;32m   1072\u001b[0m     \u001b[38;5;28;01mraise\u001b[39;00m StdinNotImplementedError(\n\u001b[0;32m   1073\u001b[0m         \u001b[38;5;124m\"\u001b[39m\u001b[38;5;124mraw_input was called, but this frontend does not support input requests.\u001b[39m\u001b[38;5;124m\"\u001b[39m\n\u001b[0;32m   1074\u001b[0m     )\n\u001b[1;32m-> 1075\u001b[0m \u001b[38;5;28;01mreturn\u001b[39;00m \u001b[38;5;28;43mself\u001b[39;49m\u001b[38;5;241;43m.\u001b[39;49m\u001b[43m_input_request\u001b[49m\u001b[43m(\u001b[49m\n\u001b[0;32m   1076\u001b[0m \u001b[43m    \u001b[49m\u001b[38;5;28;43mstr\u001b[39;49m\u001b[43m(\u001b[49m\u001b[43mprompt\u001b[49m\u001b[43m)\u001b[49m\u001b[43m,\u001b[49m\n\u001b[0;32m   1077\u001b[0m \u001b[43m    \u001b[49m\u001b[38;5;28;43mself\u001b[39;49m\u001b[38;5;241;43m.\u001b[39;49m\u001b[43m_parent_ident\u001b[49m\u001b[43m[\u001b[49m\u001b[38;5;124;43m\"\u001b[39;49m\u001b[38;5;124;43mshell\u001b[39;49m\u001b[38;5;124;43m\"\u001b[39;49m\u001b[43m]\u001b[49m\u001b[43m,\u001b[49m\n\u001b[0;32m   1078\u001b[0m \u001b[43m    \u001b[49m\u001b[38;5;28;43mself\u001b[39;49m\u001b[38;5;241;43m.\u001b[39;49m\u001b[43mget_parent\u001b[49m\u001b[43m(\u001b[49m\u001b[38;5;124;43m\"\u001b[39;49m\u001b[38;5;124;43mshell\u001b[39;49m\u001b[38;5;124;43m\"\u001b[39;49m\u001b[43m)\u001b[49m\u001b[43m,\u001b[49m\n\u001b[0;32m   1079\u001b[0m \u001b[43m    \u001b[49m\u001b[43mpassword\u001b[49m\u001b[38;5;241;43m=\u001b[39;49m\u001b[38;5;28;43;01mFalse\u001b[39;49;00m\u001b[43m,\u001b[49m\n\u001b[0;32m   1080\u001b[0m \u001b[43m\u001b[49m\u001b[43m)\u001b[49m\n",
      "File \u001b[1;32m~\\anaconda3\\lib\\site-packages\\ipykernel\\kernelbase.py:1120\u001b[0m, in \u001b[0;36mKernel._input_request\u001b[1;34m(self, prompt, ident, parent, password)\u001b[0m\n\u001b[0;32m   1117\u001b[0m             \u001b[38;5;28;01mbreak\u001b[39;00m\n\u001b[0;32m   1118\u001b[0m \u001b[38;5;28;01mexcept\u001b[39;00m \u001b[38;5;167;01mKeyboardInterrupt\u001b[39;00m:\n\u001b[0;32m   1119\u001b[0m     \u001b[38;5;66;03m# re-raise KeyboardInterrupt, to truncate traceback\u001b[39;00m\n\u001b[1;32m-> 1120\u001b[0m     \u001b[38;5;28;01mraise\u001b[39;00m \u001b[38;5;167;01mKeyboardInterrupt\u001b[39;00m(\u001b[38;5;124m\"\u001b[39m\u001b[38;5;124mInterrupted by user\u001b[39m\u001b[38;5;124m\"\u001b[39m) \u001b[38;5;28;01mfrom\u001b[39;00m \u001b[38;5;28mNone\u001b[39m\n\u001b[0;32m   1121\u001b[0m \u001b[38;5;28;01mexcept\u001b[39;00m \u001b[38;5;167;01mException\u001b[39;00m:\n\u001b[0;32m   1122\u001b[0m     \u001b[38;5;28mself\u001b[39m\u001b[38;5;241m.\u001b[39mlog\u001b[38;5;241m.\u001b[39mwarning(\u001b[38;5;124m\"\u001b[39m\u001b[38;5;124mInvalid Message:\u001b[39m\u001b[38;5;124m\"\u001b[39m, exc_info\u001b[38;5;241m=\u001b[39m\u001b[38;5;28;01mTrue\u001b[39;00m)\n",
      "\u001b[1;31mKeyboardInterrupt\u001b[0m: Interrupted by user"
     ]
    }
   ],
   "source": [
    "import openpyxl\n",
    "from datetime import datetime\n",
    "\n",
    "# Load the Excel workbook\n",
    "wb = openpyxl.load_workbook('V_SEM_DS_ATTENDANCE.xlsx')\n",
    "\n",
    "# Select the active sheet\n",
    "sheet = wb.active\n",
    "\n",
    "# Define a function to update the attendance\n",
    "def update_attendance(usn, date, new_attendance):\n",
    "    for row in range(2, sheet.max_row + 1):\n",
    "        if sheet.cell(row=row, column=1).value == usn:\n",
    "            # Check if the date column exists\n",
    "            date_column = None\n",
    "            for col in range(2, sheet.max_column + 1):\n",
    "                if sheet.cell(row=1, column=col).value == date:\n",
    "                    date_column = col\n",
    "                    break\n",
    "            if date_column is None:\n",
    "                # Add a new column for the date\n",
    "                date_column = sheet.max_column + 1\n",
    "                sheet.cell(row=1, column=date_column, value=date)\n",
    "            # Update the attendance for the given date\n",
    "            sheet.cell(row=row, column=date_column, value=new_attendance)\n",
    "            print(\"Attendance updated successfully\")\n",
    "            break\n",
    "    else:\n",
    "        print(\"Error: USN not found\")\n",
    "\n",
    "# Take USN, date, and attendance as input from user\n",
    "usn = input(\"Enter the USN: \")\n",
    "date = datetime.strptime(input(\"Enter the date (YYYY-MM-DD): \"), \"%Y-%m-%d\").date()\n",
    "new = int(input(\"Enter the new attendance: \"))\n",
    "\n",
    "# Call the function to update the attendance\n",
    "update_attendance(usn, date, date)\n",
    "\n",
    "# Save the changes to the Excel workbook\n",
    "wb.save('V_SEM_DS_ATTENDANCE.xlsx')\n"
   ]
  },
  {
   "cell_type": "code",
   "execution_count": 25,
   "id": "bece2cb4-4b23-4ff5-a994-8b1b1692be2e",
   "metadata": {},
   "outputs": [
    {
     "name": "stdin",
     "output_type": "stream",
     "text": [
      "Enter the USN:  20BTRCD004\n",
      "Enter the date (YYYY-MM-DD):  2023-02-02\n",
      "Enter the new attendance:  1\n"
     ]
    },
    {
     "name": "stdout",
     "output_type": "stream",
     "text": [
      "Attendance updated successfully\n"
     ]
    }
   ],
   "source": [
    "import openpyxl\n",
    "from datetime import datetime\n",
    "\n",
    "# Load the Excel workbook\n",
    "wb = openpyxl.load_workbook('V_SEM_DS_ATTENDANCE.xlsx')\n",
    "\n",
    "# Select the active sheet\n",
    "sheet = wb.active\n",
    "\n",
    "# Define a function to update the attendance\n",
    "def update_attendance(usn, date, new_attendance):\n",
    "    for row in range(2, sheet.max_row + 1):\n",
    "        if sheet.cell(row=row, column=1).value == usn:\n",
    "            # Check if the date column exists\n",
    "            date_column = None\n",
    "            for col in range(2, sheet.max_column + 1):\n",
    "                if sheet.cell(row=1, column=col).value == date:\n",
    "                    date_column = col\n",
    "                    break\n",
    "            if date_column is None:\n",
    "                # Add a new column for the date\n",
    "                date_column = sheet.max_column + 1\n",
    "                sheet.cell(row=1, column=date_column, value=date)\n",
    "            # Update the attendance for the given date\n",
    "            sheet.cell(row=row, column=date_column, value=new_attendance)\n",
    "            print(\"Attendance updated successfully\")\n",
    "            break\n",
    "    else:\n",
    "        print(\"Error: USN not found\")\n",
    "\n",
    "# Take USN, date, and attendance as input from user\n",
    "usn = input(\"Enter the USN: \")\n",
    "date = datetime.strptime(input(\"Enter the date (YYYY-MM-DD): \"), \"%Y-%m-%d\").date()\n",
    "new_attendance = int(input(\"Enter the new attendance: \"))\n",
    "\n",
    "# Call the function to update the attendance\n",
    "update_attendance(usn, date, new_attendance)\n",
    "\n",
    "# Save the changes to the Excel workbook\n",
    "wb.save('V_SEM_DS_ATTENDANCE.xlsx')\n"
   ]
  },
  {
   "cell_type": "code",
   "execution_count": 38,
   "id": "7b8f9c43-2247-4d3b-b241-0fbede45e638",
   "metadata": {},
   "outputs": [
    {
     "name": "stdin",
     "output_type": "stream",
     "text": [
      "Enter your USN:  20BTRCD002\n"
     ]
    }
   ],
   "source": [
    "import pandas as pd\n",
    "import os\n",
    "\n",
    "file_path = 'V_SEM_ATTENDANCE_DS.xlsx'\n",
    "\n",
    "if not os.path.exists(file_path) or 'USN' not in pd.read_excel(file_path).columns:\n",
    "    df = pd.DataFrame(columns=['USN', '02-02-23'])\n",
    "else:\n",
    "    df = pd.read_excel(file_path)\n",
    "\n",
    "USN = input(\"Enter your USN: \")\n",
    "\n",
    "if usn in df['USN'].values:\n",
    "    df.loc[df['USN'] == USN, '02-02-23'] = 'Present'\n",
    "else:\n",
    "    df = df.append({'USN': name, '02-02-23': 'Present'}, ignore_index=True)\n",
    "\n",
    "df.to_excel(file_path, index=False)"
   ]
  },
  {
   "cell_type": "code",
   "execution_count": null,
   "id": "367e44ed-d61c-4385-8b09-5e349312265d",
   "metadata": {},
   "outputs": [],
   "source": [
    "import pandas as pd\n",
    "import os\n",
    "import datetime\n",
    "\n",
    "file_path = 'V_SEM_ATTENDANCE_DS.xlsx'\n",
    "\n",
    "if not os.path.exists(file_path) or 'USN' not in pd.read_excel(file_path).columns:\n",
    "    df = pd.DataFrame(columns=['USN', 'Date', 'Attendance'])\n",
    "else:\n",
    "    df = pd.read_excel(file_path)\n",
    "\n",
    "name = input(\"Enter your name: \")\n",
    "date = datetime.datetime.strptime(input(\"Enter the date (YYYY-MM-DD): \"), '%Y-%m-%d').date()\n",
    "\n",
    "if (name, date) in df[['Name', 'Date']].values:\n",
    "    df.loc[(df['Name'] == name) & (df['Date'] == date), 'Attendance'] = 'Present'\n",
    "else:\n",
    "    df = df.append({'Name': name, 'Date': date, 'Attendance': 'Present'}, ignore_index=True)\n",
    "\n",
    "df.to_excel(file_path, index=False)\n"
   ]
  },
  {
   "cell_type": "code",
   "execution_count": 37,
   "id": "58023486-60fa-476f-945e-0333562467ac",
   "metadata": {},
   "outputs": [
    {
     "ename": "ValueError",
     "evalue": "time data 'NAME' does not match format '%Y-%m-%d'",
     "output_type": "error",
     "traceback": [
      "\u001b[1;31m---------------------------------------------------------------------------\u001b[0m",
      "\u001b[1;31mValueError\u001b[0m                                Traceback (most recent call last)",
      "Input \u001b[1;32mIn [37]\u001b[0m, in \u001b[0;36m<cell line: 7>\u001b[1;34m()\u001b[0m\n\u001b[0;32m     11\u001b[0m \u001b[38;5;28;01melse\u001b[39;00m:\n\u001b[0;32m     12\u001b[0m     df \u001b[38;5;241m=\u001b[39m pd\u001b[38;5;241m.\u001b[39mread_excel(file_path)\n\u001b[1;32m---> 13\u001b[0m     dates \u001b[38;5;241m=\u001b[39m [datetime\u001b[38;5;241m.\u001b[39mdatetime\u001b[38;5;241m.\u001b[39mstrptime(date, \u001b[38;5;124m\"\u001b[39m\u001b[38;5;124m%\u001b[39m\u001b[38;5;124mY-\u001b[39m\u001b[38;5;124m%\u001b[39m\u001b[38;5;124mm-\u001b[39m\u001b[38;5;132;01m%d\u001b[39;00m\u001b[38;5;124m\"\u001b[39m)\u001b[38;5;241m.\u001b[39mdate() \u001b[38;5;28;01mfor\u001b[39;00m date \u001b[38;5;129;01min\u001b[39;00m df\u001b[38;5;241m.\u001b[39mcolumns[\u001b[38;5;241m1\u001b[39m:]]\n\u001b[0;32m     15\u001b[0m USN \u001b[38;5;241m=\u001b[39m \u001b[38;5;28minput\u001b[39m(\u001b[38;5;124m\"\u001b[39m\u001b[38;5;124mEnter your USN: \u001b[39m\u001b[38;5;124m\"\u001b[39m)\n\u001b[0;32m     16\u001b[0m date \u001b[38;5;241m=\u001b[39m datetime\u001b[38;5;241m.\u001b[39mdatetime\u001b[38;5;241m.\u001b[39mstrptime(\u001b[38;5;28minput\u001b[39m(\u001b[38;5;124m\"\u001b[39m\u001b[38;5;124mEnter the date (YYYY-MM-DD): \u001b[39m\u001b[38;5;124m\"\u001b[39m), \u001b[38;5;124m'\u001b[39m\u001b[38;5;124m%\u001b[39m\u001b[38;5;124mY-\u001b[39m\u001b[38;5;124m%\u001b[39m\u001b[38;5;124mm-\u001b[39m\u001b[38;5;132;01m%d\u001b[39;00m\u001b[38;5;124m'\u001b[39m)\u001b[38;5;241m.\u001b[39mdate()\n",
      "Input \u001b[1;32mIn [37]\u001b[0m, in \u001b[0;36m<listcomp>\u001b[1;34m(.0)\u001b[0m\n\u001b[0;32m     11\u001b[0m \u001b[38;5;28;01melse\u001b[39;00m:\n\u001b[0;32m     12\u001b[0m     df \u001b[38;5;241m=\u001b[39m pd\u001b[38;5;241m.\u001b[39mread_excel(file_path)\n\u001b[1;32m---> 13\u001b[0m     dates \u001b[38;5;241m=\u001b[39m [\u001b[43mdatetime\u001b[49m\u001b[38;5;241;43m.\u001b[39;49m\u001b[43mdatetime\u001b[49m\u001b[38;5;241;43m.\u001b[39;49m\u001b[43mstrptime\u001b[49m\u001b[43m(\u001b[49m\u001b[43mdate\u001b[49m\u001b[43m,\u001b[49m\u001b[43m \u001b[49m\u001b[38;5;124;43m\"\u001b[39;49m\u001b[38;5;124;43m%\u001b[39;49m\u001b[38;5;124;43mY-\u001b[39;49m\u001b[38;5;124;43m%\u001b[39;49m\u001b[38;5;124;43mm-\u001b[39;49m\u001b[38;5;132;43;01m%d\u001b[39;49;00m\u001b[38;5;124;43m\"\u001b[39;49m\u001b[43m)\u001b[49m\u001b[38;5;241m.\u001b[39mdate() \u001b[38;5;28;01mfor\u001b[39;00m date \u001b[38;5;129;01min\u001b[39;00m df\u001b[38;5;241m.\u001b[39mcolumns[\u001b[38;5;241m1\u001b[39m:]]\n\u001b[0;32m     15\u001b[0m USN \u001b[38;5;241m=\u001b[39m \u001b[38;5;28minput\u001b[39m(\u001b[38;5;124m\"\u001b[39m\u001b[38;5;124mEnter your USN: \u001b[39m\u001b[38;5;124m\"\u001b[39m)\n\u001b[0;32m     16\u001b[0m date \u001b[38;5;241m=\u001b[39m datetime\u001b[38;5;241m.\u001b[39mdatetime\u001b[38;5;241m.\u001b[39mstrptime(\u001b[38;5;28minput\u001b[39m(\u001b[38;5;124m\"\u001b[39m\u001b[38;5;124mEnter the date (YYYY-MM-DD): \u001b[39m\u001b[38;5;124m\"\u001b[39m), \u001b[38;5;124m'\u001b[39m\u001b[38;5;124m%\u001b[39m\u001b[38;5;124mY-\u001b[39m\u001b[38;5;124m%\u001b[39m\u001b[38;5;124mm-\u001b[39m\u001b[38;5;132;01m%d\u001b[39;00m\u001b[38;5;124m'\u001b[39m)\u001b[38;5;241m.\u001b[39mdate()\n",
      "File \u001b[1;32m~\\anaconda3\\lib\\_strptime.py:568\u001b[0m, in \u001b[0;36m_strptime_datetime\u001b[1;34m(cls, data_string, format)\u001b[0m\n\u001b[0;32m    565\u001b[0m \u001b[38;5;28;01mdef\u001b[39;00m \u001b[38;5;21m_strptime_datetime\u001b[39m(\u001b[38;5;28mcls\u001b[39m, data_string, \u001b[38;5;28mformat\u001b[39m\u001b[38;5;241m=\u001b[39m\u001b[38;5;124m\"\u001b[39m\u001b[38;5;132;01m%a\u001b[39;00m\u001b[38;5;124m \u001b[39m\u001b[38;5;124m%\u001b[39m\u001b[38;5;124mb \u001b[39m\u001b[38;5;132;01m%d\u001b[39;00m\u001b[38;5;124m \u001b[39m\u001b[38;5;124m%\u001b[39m\u001b[38;5;124mH:\u001b[39m\u001b[38;5;124m%\u001b[39m\u001b[38;5;124mM:\u001b[39m\u001b[38;5;124m%\u001b[39m\u001b[38;5;124mS \u001b[39m\u001b[38;5;124m%\u001b[39m\u001b[38;5;124mY\u001b[39m\u001b[38;5;124m\"\u001b[39m):\n\u001b[0;32m    566\u001b[0m     \u001b[38;5;124;03m\"\"\"Return a class cls instance based on the input string and the\u001b[39;00m\n\u001b[0;32m    567\u001b[0m \u001b[38;5;124;03m    format string.\"\"\"\u001b[39;00m\n\u001b[1;32m--> 568\u001b[0m     tt, fraction, gmtoff_fraction \u001b[38;5;241m=\u001b[39m \u001b[43m_strptime\u001b[49m\u001b[43m(\u001b[49m\u001b[43mdata_string\u001b[49m\u001b[43m,\u001b[49m\u001b[43m \u001b[49m\u001b[38;5;28;43mformat\u001b[39;49m\u001b[43m)\u001b[49m\n\u001b[0;32m    569\u001b[0m     tzname, gmtoff \u001b[38;5;241m=\u001b[39m tt[\u001b[38;5;241m-\u001b[39m\u001b[38;5;241m2\u001b[39m:]\n\u001b[0;32m    570\u001b[0m     args \u001b[38;5;241m=\u001b[39m tt[:\u001b[38;5;241m6\u001b[39m] \u001b[38;5;241m+\u001b[39m (fraction,)\n",
      "File \u001b[1;32m~\\anaconda3\\lib\\_strptime.py:349\u001b[0m, in \u001b[0;36m_strptime\u001b[1;34m(data_string, format)\u001b[0m\n\u001b[0;32m    347\u001b[0m found \u001b[38;5;241m=\u001b[39m format_regex\u001b[38;5;241m.\u001b[39mmatch(data_string)\n\u001b[0;32m    348\u001b[0m \u001b[38;5;28;01mif\u001b[39;00m \u001b[38;5;129;01mnot\u001b[39;00m found:\n\u001b[1;32m--> 349\u001b[0m     \u001b[38;5;28;01mraise\u001b[39;00m \u001b[38;5;167;01mValueError\u001b[39;00m(\u001b[38;5;124m\"\u001b[39m\u001b[38;5;124mtime data \u001b[39m\u001b[38;5;132;01m%r\u001b[39;00m\u001b[38;5;124m does not match format \u001b[39m\u001b[38;5;132;01m%r\u001b[39;00m\u001b[38;5;124m\"\u001b[39m \u001b[38;5;241m%\u001b[39m\n\u001b[0;32m    350\u001b[0m                      (data_string, \u001b[38;5;28mformat\u001b[39m))\n\u001b[0;32m    351\u001b[0m \u001b[38;5;28;01mif\u001b[39;00m \u001b[38;5;28mlen\u001b[39m(data_string) \u001b[38;5;241m!=\u001b[39m found\u001b[38;5;241m.\u001b[39mend():\n\u001b[0;32m    352\u001b[0m     \u001b[38;5;28;01mraise\u001b[39;00m \u001b[38;5;167;01mValueError\u001b[39;00m(\u001b[38;5;124m\"\u001b[39m\u001b[38;5;124munconverted data remains: \u001b[39m\u001b[38;5;132;01m%s\u001b[39;00m\u001b[38;5;124m\"\u001b[39m \u001b[38;5;241m%\u001b[39m\n\u001b[0;32m    353\u001b[0m                       data_string[found\u001b[38;5;241m.\u001b[39mend():])\n",
      "\u001b[1;31mValueError\u001b[0m: time data 'NAME' does not match format '%Y-%m-%d'"
     ]
    }
   ],
   "source": [
    "import pandas as pd\n",
    "import os\n",
    "import datetime\n",
    "\n",
    "file_path = 'V_SEM_ATTENDANCE_DS.xlsx'\n",
    "\n",
    "if not os.path.exists(file_path) or 'USN' not in pd.read_excel(file_path).columns:\n",
    "    df = pd.DataFrame(columns=['USN'])\n",
    "    dates = [datetime.date.today() + datetime.timedelta(days=x) for x in range(30)]\n",
    "    df = df.reindex(columns=df.columns.tolist() + [date.strftime(\"%Y-%m-%d\") for date in dates])\n",
    "else:\n",
    "    df = pd.read_excel(file_path)\n",
    "    dates = [datetime.datetime.strptime(date, \"%Y-%m-%d\").date() for date in df.columns[1:]]\n",
    "\n",
    "USN = input(\"Enter your USN: \")\n",
    "date = datetime.datetime.strptime(input(\"Enter the date (YYYY-MM-DD): \"), '%Y-%m-%d').date()\n",
    "\n",
    "if USN in df['USN'].values:\n",
    "    df.loc[df['USN'] == USN, date.strftime(\"%Y-%m-%d\")] = 'P'\n",
    "else:\n",
    "    new_row = {'USN': USN}\n",
    "    for date in dates:\n",
    "        if date == datetime.datetime.strptime(input(\"Enter the date (YYYY-MM-DD): \"), '%Y-%m-%d').date():\n",
    "            new_row[date.strftime(\"%Y-%m-%d\")] = 'P'\n",
    "        else:\n",
    "            new_row[date.strftime(\"%Y-%m-%d\")] = ''\n",
    "    df = df.append(new_row, ignore_index=True)\n",
    "\n",
    "df.to_excel(file_path, index=False)\n"
   ]
  },
  {
   "cell_type": "code",
   "execution_count": 41,
   "id": "0e2d3b7d-60cb-422e-b6cf-12eaefb6972e",
   "metadata": {},
   "outputs": [
    {
     "name": "stdin",
     "output_type": "stream",
     "text": [
      "enter date in {dd-mm-yyyy} format :  02-02-2023\n"
     ]
    },
    {
     "ename": "KeyboardInterrupt",
     "evalue": "Interrupted by user",
     "output_type": "error",
     "traceback": [
      "\u001b[1;31m---------------------------------------------------------------------------\u001b[0m",
      "\u001b[1;31mKeyboardInterrupt\u001b[0m                         Traceback (most recent call last)",
      "Input \u001b[1;32mIn [41]\u001b[0m, in \u001b[0;36m<cell line: 26>\u001b[1;34m()\u001b[0m\n\u001b[0;32m     20\u001b[0m     df\u001b[38;5;241m.\u001b[39mto_excel(\u001b[38;5;124m'\u001b[39m\u001b[38;5;124mV_SEM_ATTENDANCE_DS.xlsx\u001b[39m\u001b[38;5;124m'\u001b[39m, index\u001b[38;5;241m=\u001b[39m\u001b[38;5;28;01mFalse\u001b[39;00m)\n\u001b[0;32m     25\u001b[0m x \u001b[38;5;241m=\u001b[39m \u001b[38;5;28minput\u001b[39m(\u001b[38;5;124m\"\u001b[39m\u001b[38;5;124menter date in \u001b[39m\u001b[38;5;124m{\u001b[39m\u001b[38;5;124mdd-mm-yyyy} format : \u001b[39m\u001b[38;5;124m\"\u001b[39m)\n\u001b[1;32m---> 26\u001b[0m y \u001b[38;5;241m=\u001b[39m \u001b[38;5;28mlist\u001b[39m(\u001b[38;5;28mmap\u001b[39m(\u001b[38;5;28mstr\u001b[39m, \u001b[38;5;28;43minput\u001b[39;49m\u001b[43m(\u001b[49m\u001b[38;5;124;43m\"\u001b[39;49m\u001b[38;5;124;43menter USN\u001b[39;49m\u001b[38;5;124;43m\"\u001b[39;49m\u001b[43m)\u001b[49m\u001b[38;5;241m.\u001b[39msplit(\u001b[38;5;124m'\u001b[39m\u001b[38;5;124m,\u001b[39m\u001b[38;5;124m'\u001b[39m)))\n\u001b[0;32m     27\u001b[0m a \u001b[38;5;241m=\u001b[39m []\n\u001b[0;32m     28\u001b[0m \u001b[38;5;28;01mfor\u001b[39;00m i \u001b[38;5;129;01min\u001b[39;00m \u001b[38;5;28mrange\u001b[39m(\u001b[38;5;28mlen\u001b[39m(y)):\n",
      "File \u001b[1;32m~\\anaconda3\\lib\\site-packages\\ipykernel\\kernelbase.py:1075\u001b[0m, in \u001b[0;36mKernel.raw_input\u001b[1;34m(self, prompt)\u001b[0m\n\u001b[0;32m   1071\u001b[0m \u001b[38;5;28;01mif\u001b[39;00m \u001b[38;5;129;01mnot\u001b[39;00m \u001b[38;5;28mself\u001b[39m\u001b[38;5;241m.\u001b[39m_allow_stdin:\n\u001b[0;32m   1072\u001b[0m     \u001b[38;5;28;01mraise\u001b[39;00m StdinNotImplementedError(\n\u001b[0;32m   1073\u001b[0m         \u001b[38;5;124m\"\u001b[39m\u001b[38;5;124mraw_input was called, but this frontend does not support input requests.\u001b[39m\u001b[38;5;124m\"\u001b[39m\n\u001b[0;32m   1074\u001b[0m     )\n\u001b[1;32m-> 1075\u001b[0m \u001b[38;5;28;01mreturn\u001b[39;00m \u001b[38;5;28;43mself\u001b[39;49m\u001b[38;5;241;43m.\u001b[39;49m\u001b[43m_input_request\u001b[49m\u001b[43m(\u001b[49m\n\u001b[0;32m   1076\u001b[0m \u001b[43m    \u001b[49m\u001b[38;5;28;43mstr\u001b[39;49m\u001b[43m(\u001b[49m\u001b[43mprompt\u001b[49m\u001b[43m)\u001b[49m\u001b[43m,\u001b[49m\n\u001b[0;32m   1077\u001b[0m \u001b[43m    \u001b[49m\u001b[38;5;28;43mself\u001b[39;49m\u001b[38;5;241;43m.\u001b[39;49m\u001b[43m_parent_ident\u001b[49m\u001b[43m[\u001b[49m\u001b[38;5;124;43m\"\u001b[39;49m\u001b[38;5;124;43mshell\u001b[39;49m\u001b[38;5;124;43m\"\u001b[39;49m\u001b[43m]\u001b[49m\u001b[43m,\u001b[49m\n\u001b[0;32m   1078\u001b[0m \u001b[43m    \u001b[49m\u001b[38;5;28;43mself\u001b[39;49m\u001b[38;5;241;43m.\u001b[39;49m\u001b[43mget_parent\u001b[49m\u001b[43m(\u001b[49m\u001b[38;5;124;43m\"\u001b[39;49m\u001b[38;5;124;43mshell\u001b[39;49m\u001b[38;5;124;43m\"\u001b[39;49m\u001b[43m)\u001b[49m\u001b[43m,\u001b[49m\n\u001b[0;32m   1079\u001b[0m \u001b[43m    \u001b[49m\u001b[43mpassword\u001b[49m\u001b[38;5;241;43m=\u001b[39;49m\u001b[38;5;28;43;01mFalse\u001b[39;49;00m\u001b[43m,\u001b[49m\n\u001b[0;32m   1080\u001b[0m \u001b[43m\u001b[49m\u001b[43m)\u001b[49m\n",
      "File \u001b[1;32m~\\anaconda3\\lib\\site-packages\\ipykernel\\kernelbase.py:1120\u001b[0m, in \u001b[0;36mKernel._input_request\u001b[1;34m(self, prompt, ident, parent, password)\u001b[0m\n\u001b[0;32m   1117\u001b[0m             \u001b[38;5;28;01mbreak\u001b[39;00m\n\u001b[0;32m   1118\u001b[0m \u001b[38;5;28;01mexcept\u001b[39;00m \u001b[38;5;167;01mKeyboardInterrupt\u001b[39;00m:\n\u001b[0;32m   1119\u001b[0m     \u001b[38;5;66;03m# re-raise KeyboardInterrupt, to truncate traceback\u001b[39;00m\n\u001b[1;32m-> 1120\u001b[0m     \u001b[38;5;28;01mraise\u001b[39;00m \u001b[38;5;167;01mKeyboardInterrupt\u001b[39;00m(\u001b[38;5;124m\"\u001b[39m\u001b[38;5;124mInterrupted by user\u001b[39m\u001b[38;5;124m\"\u001b[39m) \u001b[38;5;28;01mfrom\u001b[39;00m \u001b[38;5;28mNone\u001b[39m\n\u001b[0;32m   1121\u001b[0m \u001b[38;5;28;01mexcept\u001b[39;00m \u001b[38;5;167;01mException\u001b[39;00m:\n\u001b[0;32m   1122\u001b[0m     \u001b[38;5;28mself\u001b[39m\u001b[38;5;241m.\u001b[39mlog\u001b[38;5;241m.\u001b[39mwarning(\u001b[38;5;124m\"\u001b[39m\u001b[38;5;124mInvalid Message:\u001b[39m\u001b[38;5;124m\"\u001b[39m, exc_info\u001b[38;5;241m=\u001b[39m\u001b[38;5;28;01mTrue\u001b[39;00m)\n",
      "\u001b[1;31mKeyboardInterrupt\u001b[0m: Interrupted by user"
     ]
    }
   ],
   "source": [
    "import pandas as pd\n",
    "\n",
    "def mark_attendance(date, USN):\n",
    "    # Load the existing Excel file into a pandas DataFrame\n",
    "    df = pd.read_excel('V_SEM_ATTENDANCE_DS.xlsx')\n",
    "    \n",
    "    # Check if the date is already in the first row, if not add it\n",
    "    if date not in df.columns:\n",
    "        df.insert(1, date, '')\n",
    "    \n",
    "    # Get the column index for the specified date\n",
    "    date_col = df.columns.get_loc(date)\n",
    "    \n",
    "    # Mark 'P' for the specified roll numbers on the specified date\n",
    "    for USN in USN:\n",
    "        row = df[df['USN'] == USN].index[0]+date_col\n",
    "        df.at[row, date_col] = 'P'\n",
    "    \n",
    "    # Write the updated DataFrame back to the Excel file\n",
    "    df.to_excel('V_SEM_ATTENDANCE_DS.xlsx', index=False)\n",
    "\n",
    "    \n",
    "    \n",
    "    \n",
    "x = input(\"enter date in {dd-mm-yyyy} format : \")\n",
    "y = list(map(str, input(\"enter USN\").split(',')))\n",
    "a = []\n",
    "for i in range(len(y)):\n",
    "    b = \"20BTRCD0\" + y[i]\n",
    "    a.append(b)\n",
    "mark_attendance(x,a)"
   ]
  },
  {
   "cell_type": "code",
   "execution_count": 44,
   "id": "062a9a9b-e82a-4f0f-98d8-940eed315821",
   "metadata": {},
   "outputs": [
    {
     "name": "stdin",
     "output_type": "stream",
     "text": [
      "Enter your USN:  20BTRCD001\n",
      "Enter the date (dd-mm-yy):  02-02-23\n"
     ]
    }
   ],
   "source": [
    "import pandas as pd\n",
    "import os\n",
    "\n",
    "file_path = 'V_SEM_ATTENDANCE_DS.xlsx'\n",
    "\n",
    "if not os.path.exists(file_path) or 'USN' not in pd.read_excel(file_path).columns:\n",
    "    df = pd.DataFrame(columns=['USN'])\n",
    "\n",
    "else:\n",
    "    df = pd.read_excel(file_path)\n",
    "\n",
    "USN = input(\"Enter your USN: \")\n",
    "date = input(\"Enter the date (dd-mm-yy): \")\n",
    "\n",
    "if USN in df['USN'].values:\n",
    "    if date not in df.columns:\n",
    "        df[date] = \"Absent\"\n",
    "    df.loc[df['USN'] == USN, date] = 'Present'\n",
    "else:\n",
    "    if date not in df.columns:\n",
    "        df[date] = \"Absent\"\n",
    "    df = df.append({'USN': USN, date: 'Present'}, ignore_index=True)\n",
    "\n",
    "df.to_excel(file_path, index=False)\n",
    "\n"
   ]
  },
  {
   "cell_type": "code",
   "execution_count": null,
   "id": "84cd1429-85e2-4929-b23d-06144632c326",
   "metadata": {},
   "outputs": [
    {
     "name": "stdin",
     "output_type": "stream",
     "text": [
      "Enter the date (DD-MM-YY):  03-02-23\n"
     ]
    }
   ],
   "source": [
    "import pandas as pd\n",
    "import os\n",
    "\n",
    "file_path = 'V_SEM_ATTENDANCE_DS.xlsx'\n",
    "\n",
    "if not os.path.exists(file_path) or 'USN' not in pd.read_excel(file_path).columns:\n",
    "    df = pd.DataFrame(columns=['USN', '02-02-23'])\n",
    "else:\n",
    "    df = pd.read_excel(file_path)\n",
    "\n",
    "date = input(\"Enter the date (DD-MM-YY): \")\n",
    "\n",
    "usns = []\n",
    "while True:\n",
    "    USN = input(\"Enter a USN (Enter 'done' when finished): \")\n",
    "    if USN == 'done':\n",
    "        break\n",
    "    usns.append(USN)\n",
    "\n",
    "for USN in usns:\n",
    "    if USN in df['USN'].values:\n",
    "        df.loc[df['USN'] == USN, date] = 'Present'\n",
    "    else:\n",
    "        df = df.append({'USN': USN, date: 'Present'}, ignore_index=True)\n",
    "\n",
    "df.to_excel(file_path, index=False)\n"
   ]
  },
  {
   "cell_type": "code",
   "execution_count": null,
   "id": "23f8a646-cde0-4d94-8add-514a372c1a74",
   "metadata": {},
   "outputs": [],
   "source": []
  }
 ],
 "metadata": {
  "kernelspec": {
   "display_name": "Python 3",
   "language": "python",
   "name": "python3"
  },
  "language_info": {
   "codemirror_mode": {
    "name": "ipython",
    "version": 3
   },
   "file_extension": ".py",
   "mimetype": "text/x-python",
   "name": "python",
   "nbconvert_exporter": "python",
   "pygments_lexer": "ipython3",
   "version": "3.8.8"
  }
 },
 "nbformat": 4,
 "nbformat_minor": 5
}

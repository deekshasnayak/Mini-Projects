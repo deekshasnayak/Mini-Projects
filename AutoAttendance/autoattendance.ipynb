import pandas as pd
import os

file_path = 'V_SEM_ATTENDANCE_DS.xlsx'

if not os.path.exists(file_path) or 'USN' not in pd.read_excel(file_path).columns:
    df = pd.DataFrame(columns=['USN', '02-02-23'])
else:
    df = pd.read_excel(file_path)

date = input("Enter the date (DD-MM-YY): ")

usns = []
while True:
    USN = input("Enter a USN (Enter 'done' when finished): ")
    if USN == 'done':
        break
    usns.append(USN)

for USN in usns:
    if USN in df['USN'].values:
        df.loc[df['USN'] == USN, date] = 'Present'
    else:
        df = df.append({'USN': USN, date: 'Present'}, ignore_index=True)

df.to_excel(file_path, index=False)

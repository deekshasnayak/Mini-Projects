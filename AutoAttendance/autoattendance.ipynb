{
 "cells": [
  {
   "cell_type": "code",
   "execution_count": null,
   "id": "23f8a646-cde0-4d94-8add-514a372c1a74",
   "metadata": {},
   "outputs": [],
   "source": [
    "import pandas as pd\n",
    "import os\n",
    "\n",
    "file_path = 'V_SEM_ATTENDANCE_DS.xlsx'\n",
    "\n",
    "if not os.path.exists(file_path) or 'USN' not in pd.read_excel(file_path).columns:\n",
    "    df = pd.DataFrame(columns=['USN', '02-02-23'])\n",
    "else:\n",
    "    df = pd.read_excel(file_path)\n",
    "\n",
    "date = input(\"Enter the date (DD-MM-YY): \")\n",
    "\n",
    "usns = []\n",
    "while True:\n",
    "    USN = input(\"Enter a USN (Enter 'done' when finished): \")\n",
    "    if USN == 'done':\n",
    "        break\n",
    "    usns.append(USN)\n",
    "\n",
    "for USN in usns:\n",
    "    if USN in df['USN'].values:\n",
    "        df.loc[df['USN'] == USN, date] = 'Present'\n",
    "    else:\n",
    "        df = df.append({'USN': USN, date: 'Present'}, ignore_index=True)\n",
    "\n",
    "df.to_excel(file_path, index=False)"
   ]
  }
 ],
 "metadata": {
  "kernelspec": {
   "display_name": "Python 3",
   "language": "python",
   "name": "python3"
  },
  "language_info": {
   "codemirror_mode": {
    "name": "ipython",
    "version": 3
   },
   "file_extension": ".py",
   "mimetype": "text/x-python",
   "name": "python",
   "nbconvert_exporter": "python",
   "pygments_lexer": "ipython3",
   "version": "3.8.8"
  }
 },
 "nbformat": 4,
 "nbformat_minor": 5
}
